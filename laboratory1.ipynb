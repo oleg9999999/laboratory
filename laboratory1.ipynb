{
  "cells": [
    {
      "cell_type": "markdown",
      "metadata": {
        "id": "view-in-github",
        "colab_type": "text"
      },
      "source": [
        "<a href=\"https://colab.research.google.com/github/oleg9999999/laboratory/blob/main/laboratory1.ipynb\" target=\"_parent\"><img src=\"https://colab.research.google.com/assets/colab-badge.svg\" alt=\"Open In Colab\"/></a>"
      ]
    },
    {
      "cell_type": "markdown",
      "metadata": {
        "id": "IQQg6HQE6_62"
      },
      "source": [
        "## Получение данных\n"
      ]
    },
    {
      "cell_type": "markdown",
      "metadata": {
        "id": "C67cPY5A6_64"
      },
      "source": [
        "Знакомому формату электронной таблицы Excel в Pandas соответствует структура данных DataFrame. Аналитики обычно называют такие объекты просто DataFrame.\n",
        "В рабочей практике вы столкнётесь с тем, что данные хранят в файлах разных форматов. Из них самый распространённый – CSV (от англ. Comma-Separated Values, «значения, разделённые запятой»). Каждая строка такого файла представляет собой одну строку таблицы, где данные разделены запятыми. В первой строке собраны заголовки столбцов (если они есть).\n",
        "\n",
        "Файлы CSV удобнее всего открывать вызовом метода read_csv() из библиотеки Pandas.\n",
        "Команда для открыия файла имеет вид:\n",
        "**import pandas as pd\n",
        "df = pd.read_csv('music_log.csv') # аргумент - путь к файлу**\n",
        "\n",
        "Теперь все данные из файла можно напечатать на экране командой **print(df)**, но это не всегда нужно делать — не исключено, что таблица огромна и неудобна для изучения. Для знакомства с данными запрашивают несколько строк из начала или конца таблицы, вызывая специальные методы **head()** и **tail()**. По умолчанию **head()** возвращает первые 5 строк набора данных, а метод **tail()** – последние 5 строк. Когда нужно не 5, количество строк передаётся этим методам как аргумент. Например, **head(10)** вернёт первые 10 строк.\n",
        "\n",
        "1. Загрузите базу данных по пассажирам “Титаника”.  https://raw.githubusercontent.com/allatambov/Py-programming-3/master/28-05/Titanic.csv.\n",
        "2. Выведите на печать первые десять строк таблицы.\n",
        "\n",
        "\n"
      ]
    },
    {
      "cell_type": "code",
      "execution_count": null,
      "metadata": {
        "colab": {
          "base_uri": "https://localhost:8080/"
        },
        "id": "2K4xIiP_6_65",
        "outputId": "06eb7935-6afd-4226-a521-3d079666dee0"
      },
      "outputs": [
        {
          "output_type": "stream",
          "name": "stdout",
          "text": [
            "   PassengerId  Survived  Pclass  \\\n",
            "0            1         0       3   \n",
            "1            2         1       1   \n",
            "2            3         1       3   \n",
            "3            4         1       1   \n",
            "4            5         0       3   \n",
            "5            6         0       3   \n",
            "6            7         0       1   \n",
            "7            8         0       3   \n",
            "8            9         1       3   \n",
            "9           10         1       2   \n",
            "\n",
            "                                                Name     Sex   Age  SibSp  \\\n",
            "0                            Braund, Mr. Owen Harris    male  22.0      1   \n",
            "1  Cumings, Mrs. John Bradley (Florence Briggs Th...  female  38.0      1   \n",
            "2                             Heikkinen, Miss. Laina  female  26.0      0   \n",
            "3       Futrelle, Mrs. Jacques Heath (Lily May Peel)  female  35.0      1   \n",
            "4                           Allen, Mr. William Henry    male  35.0      0   \n",
            "5                                   Moran, Mr. James    male   NaN      0   \n",
            "6                            McCarthy, Mr. Timothy J    male  54.0      0   \n",
            "7                     Palsson, Master. Gosta Leonard    male   2.0      3   \n",
            "8  Johnson, Mrs. Oscar W (Elisabeth Vilhelmina Berg)  female  27.0      0   \n",
            "9                Nasser, Mrs. Nicholas (Adele Achem)  female  14.0      1   \n",
            "\n",
            "   Parch            Ticket     Fare Cabin Embarked  \n",
            "0      0         A/5 21171   7.2500   NaN        S  \n",
            "1      0          PC 17599  71.2833   C85        C  \n",
            "2      0  STON/O2. 3101282   7.9250   NaN        S  \n",
            "3      0            113803  53.1000  C123        S  \n",
            "4      0            373450   8.0500   NaN        S  \n",
            "5      0            330877   8.4583   NaN        Q  \n",
            "6      0             17463  51.8625   E46        S  \n",
            "7      1            349909  21.0750   NaN        S  \n",
            "8      2            347742  11.1333   NaN        S  \n",
            "9      0            237736  30.0708   NaN        C  \n"
          ]
        }
      ],
      "source": [
        "import pandas as pd\n",
        "df = pd.read_csv('https://raw.githubusercontent.com/allatambov/Py-programming-3/master/28-05/Titanic.csv')\n",
        "print(df.head(10))"
      ]
    },
    {
      "cell_type": "markdown",
      "metadata": {
        "id": "xYsn90Nf6_67"
      },
      "source": [
        "## Объект DataFrame"
      ]
    },
    {
      "cell_type": "markdown",
      "metadata": {
        "id": "VMWaiB3p6_67"
      },
      "source": [
        "Таблица, которую мы получили, хранится в структуре данных DataFrame. DataFrame — это двумерная структура данных Pandas, где у каждого элемента есть две координаты: по строке и по столбцу. Вы видите две оси, которые формируют объект DataFrame. Первая ось называется индексы, вторая ось — столбцы. По умолчанию индексация в DataFrame начинается с нуля.\n",
        "Каждая строка — это одно наблюдение, запись об объекте исследования. А столбцы — признаки объектов. В нашем случае одна строка — это информация об одном пассажире, включая класс, фамилию-имя, возраст и т.д.\n",
        "Подробнее об этом датасете можно почитать здесь http://campus.lakeforest.edu/frank/FILES/MLFfiles/Bio150/Titanic/TitanicMETA.pdf.\n",
        "Для лучшего понимания данных полезно получить доступ к их описанию. Это либо документация со сведениями о содержании каждого столбца, либо – не самый лучший вариант – рассказ человека, который предоставил вам эту информацию.\n",
        "Такое описание поможет нам ставить себе корректные задачи.\n",
        "\n",
        "У DataFrame есть неотъемлемые свойства, значения которых можно запросить. Они называются атрибуты. Например, атрибут columns содержит информацию о названиях столбцов в наборе данных.\n",
        "**print(df.columns)**\n"
      ]
    },
    {
      "cell_type": "code",
      "execution_count": null,
      "metadata": {
        "colab": {
          "base_uri": "https://localhost:8080/"
        },
        "id": "dXCdZu2L6_67",
        "outputId": "5cb97a81-31cd-4337-e3bb-b3c4ce6034ef"
      },
      "outputs": [
        {
          "output_type": "stream",
          "name": "stdout",
          "text": [
            "Index(['PassengerId', 'Survived', 'Pclass', 'Name', 'Sex', 'Age', 'SibSp',\n",
            "       'Parch', 'Ticket', 'Fare', 'Cabin', 'Embarked'],\n",
            "      dtype='object')\n"
          ]
        }
      ],
      "source": [
        "print(df.columns)"
      ]
    },
    {
      "cell_type": "markdown",
      "metadata": {
        "id": "Jy-Kp3g06_68"
      },
      "source": [
        "В данном случае атрибут **columns** вернул список названий столбцов и сообщил, что каждое из них имеет тип данных **object**.\n",
        "Вообще типы данных могут быть разные. Для просмотра типа данных каждого столбца лучше всего использовать атрибут **dtypes**.\n"
      ]
    },
    {
      "cell_type": "code",
      "execution_count": null,
      "metadata": {
        "colab": {
          "base_uri": "https://localhost:8080/"
        },
        "id": "QT9V0qls6_68",
        "outputId": "5ba3d975-7a48-4ed7-c643-45e5fe3e1f83"
      },
      "outputs": [
        {
          "output_type": "stream",
          "name": "stdout",
          "text": [
            "PassengerId      int64\n",
            "Survived         int64\n",
            "Pclass           int64\n",
            "Name            object\n",
            "Sex             object\n",
            "Age            float64\n",
            "SibSp            int64\n",
            "Parch            int64\n",
            "Ticket          object\n",
            "Fare           float64\n",
            "Cabin           object\n",
            "Embarked        object\n",
            "dtype: object\n"
          ]
        }
      ],
      "source": [
        "print(df.dtypes)"
      ]
    },
    {
      "cell_type": "markdown",
      "metadata": {
        "id": "ReX6KrfI6_68"
      },
      "source": [
        "Типы данных, о которых сообщают нам атрибуты — это типы данных библиотеки Pandas. Каждому из них соответствует определённый тип данных языка Python.\n",
        "Так, для **int** таким «двойником» в Pandas будет **int64**. Тип данных object используется, когда данные не подходят ни под одну категорию или соответствуют в Python типу «строка». Вот таблица соответствия типов данных Pandas и Python:\n",
        "PANDASDTYPE    PYTHON TYPE\t     ЗНАЧЕНИЕ\n",
        "object\t          str \t         Строка\n",
        "int64\t          int\t         Целые числа\n",
        "float64\t         float\t         Вещественные числа\n",
        "bool\t          bool\t         Логический тип данных\n",
        "О размерах таблицы с данными сообщает её атрибут **shape**. В результате получается кортеж (неизменяемый список) из двух чисел: первое – количество строк, второе – количество столбцов.\n"
      ]
    },
    {
      "cell_type": "code",
      "execution_count": null,
      "metadata": {
        "colab": {
          "base_uri": "https://localhost:8080/"
        },
        "id": "RdA9sP676_69",
        "outputId": "786033ec-d33a-4ccc-9a89-18a66947b3b1"
      },
      "outputs": [
        {
          "output_type": "stream",
          "name": "stdout",
          "text": [
            "(891, 12)\n"
          ]
        }
      ],
      "source": [
        "print(df.shape)"
      ]
    },
    {
      "cell_type": "markdown",
      "metadata": {
        "id": "x_bzfs2Y6_69"
      },
      "source": [
        "Всю информацию, которую предоставляют разные атрибуты **DataFrame**, можно получить вызовом одного-единственного метода **info()**. Изучив результаты, которые этот метод возвращает, аналитик выбирает тактику дальнейшей работы с таблицей."
      ]
    },
    {
      "cell_type": "code",
      "execution_count": null,
      "metadata": {
        "scrolled": false,
        "colab": {
          "base_uri": "https://localhost:8080/"
        },
        "id": "Q2EN-nrC6_69",
        "outputId": "661babdd-394d-49ca-bc80-dd6acee6a62c"
      },
      "outputs": [
        {
          "output_type": "stream",
          "name": "stdout",
          "text": [
            "<bound method DataFrame.info of      PassengerId  Survived  Pclass  \\\n",
            "0              1         0       3   \n",
            "1              2         1       1   \n",
            "2              3         1       3   \n",
            "3              4         1       1   \n",
            "4              5         0       3   \n",
            "..           ...       ...     ...   \n",
            "886          887         0       2   \n",
            "887          888         1       1   \n",
            "888          889         0       3   \n",
            "889          890         1       1   \n",
            "890          891         0       3   \n",
            "\n",
            "                                                  Name     Sex   Age  SibSp  \\\n",
            "0                              Braund, Mr. Owen Harris    male  22.0      1   \n",
            "1    Cumings, Mrs. John Bradley (Florence Briggs Th...  female  38.0      1   \n",
            "2                               Heikkinen, Miss. Laina  female  26.0      0   \n",
            "3         Futrelle, Mrs. Jacques Heath (Lily May Peel)  female  35.0      1   \n",
            "4                             Allen, Mr. William Henry    male  35.0      0   \n",
            "..                                                 ...     ...   ...    ...   \n",
            "886                              Montvila, Rev. Juozas    male  27.0      0   \n",
            "887                       Graham, Miss. Margaret Edith  female  19.0      0   \n",
            "888           Johnston, Miss. Catherine Helen \"Carrie\"  female   NaN      1   \n",
            "889                              Behr, Mr. Karl Howell    male  26.0      0   \n",
            "890                                Dooley, Mr. Patrick    male  32.0      0   \n",
            "\n",
            "     Parch            Ticket     Fare Cabin Embarked  \n",
            "0        0         A/5 21171   7.2500   NaN        S  \n",
            "1        0          PC 17599  71.2833   C85        C  \n",
            "2        0  STON/O2. 3101282   7.9250   NaN        S  \n",
            "3        0            113803  53.1000  C123        S  \n",
            "4        0            373450   8.0500   NaN        S  \n",
            "..     ...               ...      ...   ...      ...  \n",
            "886      0            211536  13.0000   NaN        S  \n",
            "887      0            112053  30.0000   B42        S  \n",
            "888      2        W./C. 6607  23.4500   NaN        S  \n",
            "889      0            111369  30.0000  C148        C  \n",
            "890      0            370376   7.7500   NaN        Q  \n",
            "\n",
            "[891 rows x 12 columns]>\n"
          ]
        }
      ],
      "source": [
        "print(df.info)"
      ]
    },
    {
      "cell_type": "markdown",
      "metadata": {
        "id": "5Y7bksZy6_69"
      },
      "source": [
        "Например, здесь в рахных стольцах разное количество элементов с определёнными значениями (non-null). Следовательно, в таблице есть пропущенные значения (null). Прежде чем анализировать такие данные, их нужно обработать. Это одна из самых интересных задач аналитика, и мы поговорим о ней подробнее в следующей теме."
      ]
    },
    {
      "cell_type": "markdown",
      "metadata": {
        "id": "W0k3SJcT6_69"
      },
      "source": [
        "# Задачи\n",
        "1. Прочитайте файл **student-mat.csv** и сохраните его в переменной **df**. Выведите на экран первые 10 строк таблицы, изучите данныи и описание к таблице. Создайте переменную **shape_table** и сохраните в ней размеры таблицы **student-mat.csv**. Напечатайте на экране размер таблицы в таком виде:\n",
        "Размер таблицы: ...\n",
        "2. Сколько наблюдений в наборе данных? В переменной **shape_table** хранится кортеж. Его первый элемент — количество наблюдений, который надо сохранить в переменной **observations_table** (не забывайте, что индексация элементов идёт с 0). Напечатайте на экране ответ в таком виде:\n",
        "Количество наблюдений: ...\n",
        "3. Найдите в информации, которую вернул метод **info()**, число наблюдений. Вручную присвойте это число как значение переменной **observations_info_table**.\n",
        "4. Поскольку в ходе работы аналитик объявляет разные переменные и сохраняет в них добытую разными способами информацию, запутаться очень легко. Именно поэтому необходимо проверять себя и текущие результаты. Сравните полученные результаты в переменных observations_info_table и observations_table. Если значения переменных совпадают, то выведите количество наблюдений и сообщение:\n",
        "'Решение верно, количество наблюдений равно', observations_table   \n",
        "Если значения переменных не совпадают, то выведите сообщение:\n",
        "'Решение неверно, проверьте ещё раз!'"
      ]
    },
    {
      "cell_type": "code",
      "execution_count": null,
      "metadata": {
        "colab": {
          "base_uri": "https://localhost:8080/"
        },
        "id": "Oi0QxBlQ6_6-",
        "outputId": "fece249a-d2a2-4545-9472-a0673f9c4260"
      },
      "outputs": [
        {
          "output_type": "stream",
          "name": "stdout",
          "text": [
            "  school sex  age address famsize Pstatus  Medu  Fedu      Mjob      Fjob  \\\n",
            "0     GP   F   18       U     GT3       A     4     4   at_home   teacher   \n",
            "1     GP   F   17       U     GT3       T     1     1   at_home     other   \n",
            "2     GP   F   15       U     LE3       T     1     1   at_home     other   \n",
            "3     GP   F   15       U     GT3       T     4     2    health  services   \n",
            "4     GP   F   16       U     GT3       T     3     3     other     other   \n",
            "5     GP   M   16       U     LE3       T     4     3  services     other   \n",
            "6     GP   M   16       U     LE3       T     2     2     other     other   \n",
            "7     GP   F   17       U     GT3       A     4     4     other   teacher   \n",
            "8     GP   M   15       U     LE3       A     3     2  services     other   \n",
            "9     GP   M   15       U     GT3       T     3     4     other     other   \n",
            "\n",
            "   ... famrel freetime  goout  Dalc  Walc health absences  G1  G2  G3  \n",
            "0  ...      4        3      4     1     1      3        6   5   6   6  \n",
            "1  ...      5        3      3     1     1      3        4   5   5   6  \n",
            "2  ...      4        3      2     2     3      3       10   7   8  10  \n",
            "3  ...      3        2      2     1     1      5        2  15  14  15  \n",
            "4  ...      4        3      2     1     2      5        4   6  10  10  \n",
            "5  ...      5        4      2     1     2      5       10  15  15  15  \n",
            "6  ...      4        4      4     1     1      3        0  12  12  11  \n",
            "7  ...      4        1      4     1     1      1        6   6   5   6  \n",
            "8  ...      4        2      2     1     1      1        0  16  18  19  \n",
            "9  ...      5        5      1     1     1      5        0  14  15  15  \n",
            "\n",
            "[10 rows x 33 columns]\n"
          ]
        }
      ],
      "source": [
        "df = pd.read_csv('/content/1 laboratory/student-mat.csv')\n",
        "print(df.head(10))"
      ]
    },
    {
      "cell_type": "code",
      "execution_count": null,
      "metadata": {
        "id": "ECz69Sfs6_6-",
        "colab": {
          "base_uri": "https://localhost:8080/",
          "height": 164
        },
        "outputId": "2247fed3-2f58-475a-92c9-348a970d37d8"
      },
      "outputs": [
        {
          "output_type": "error",
          "ename": "NameError",
          "evalue": "name 'df' is not defined",
          "traceback": [
            "\u001b[0;31m---------------------------------------------------------------------------\u001b[0m",
            "\u001b[0;31mNameError\u001b[0m                                 Traceback (most recent call last)",
            "\u001b[0;32m<ipython-input-1-afa77407ae5e>\u001b[0m in \u001b[0;36m<cell line: 1>\u001b[0;34m()\u001b[0m\n\u001b[0;32m----> 1\u001b[0;31m \u001b[0mshape_table\u001b[0m \u001b[0;34m=\u001b[0m \u001b[0mdf\u001b[0m\u001b[0;34m.\u001b[0m\u001b[0mshape\u001b[0m\u001b[0;34m\u001b[0m\u001b[0;34m\u001b[0m\u001b[0m\n\u001b[0m\u001b[1;32m      2\u001b[0m \u001b[0mprint\u001b[0m\u001b[0;34m(\u001b[0m\u001b[0;34m'Размер таблицы: '\u001b[0m\u001b[0;34m,\u001b[0m \u001b[0mshape_table\u001b[0m\u001b[0;34m)\u001b[0m\u001b[0;34m\u001b[0m\u001b[0;34m\u001b[0m\u001b[0m\n",
            "\u001b[0;31mNameError\u001b[0m: name 'df' is not defined"
          ]
        }
      ],
      "source": [
        "shape_table = df.shape\n",
        "print('Размер таблицы: ', shape_table)"
      ]
    },
    {
      "cell_type": "code",
      "source": [
        "observations_table = shape_table[0]\n",
        "print('Количество наблюдений: ', observations_table)"
      ],
      "metadata": {
        "colab": {
          "base_uri": "https://localhost:8080/"
        },
        "id": "vEasXlzzArId",
        "outputId": "2d657061-1d5b-490a-ef34-43f748a057f9"
      },
      "execution_count": null,
      "outputs": [
        {
          "output_type": "stream",
          "name": "stdout",
          "text": [
            "Количество наблюдений:  395\n"
          ]
        }
      ]
    },
    {
      "cell_type": "code",
      "source": [
        "observations_info_table = 395\n",
        "if observations_table == observations_info_table: print('Решение верно, количество наблюдений равно ', observations_table)\n",
        "else: print('Решение неверно, проверьте ещё раз!')"
      ],
      "metadata": {
        "colab": {
          "base_uri": "https://localhost:8080/"
        },
        "id": "YZcFt6keBY_D",
        "outputId": "1abf3604-c8ef-4559-818e-0941f8ca9efe"
      },
      "execution_count": null,
      "outputs": [
        {
          "output_type": "stream",
          "name": "stdout",
          "text": [
            "Решение верно, количество наблюдений равно  395\n"
          ]
        }
      ]
    },
    {
      "cell_type": "markdown",
      "metadata": {
        "id": "JBe9sWxi6_6-"
      },
      "source": [
        "## Идексация в DataFrame\n",
        "К каждой ячейке с данными в **DataFrame** можно обратиться по её индексу и названию столбца. Мы можем получать различные срезы данных в зависимости от того, какой запрос к **DataFrame** мы сформулируем. Этот процесс называется индексация. Для **DataFrame** она проводится разными способами.\n",
        "Атрибут **loc[строка, столбец]** даёт доступ к элементу по строке и столбцу.\n",
        "\n",
        "ВИД\t                                                  РЕАЛИЗАЦИЯ\n",
        "Одна ячейка\t                                         .loc[7, 'genre']\n",
        "Один столбец\t                                     .loc[:, 'genre']\n",
        "Несколько столбцов                                   .loc[:, ['genre', 'Artist']]\n",
        "Несколько столбцов подряд (срез)\t                 .loc[:, 'user_id': 'genre']\n",
        "Одна строка\t                                         .loc[1]\n",
        "Все строки, начиная с заданной\t                     .loc[1:]\n",
        "Все строки до заданной\t                             .loc[:3]\n",
        "Несколько строк подряд (срез)\t                     .loc[2:5]\n",
        "\n",
        "Также вы могли заметить, что запрос к атрибуту loc[] использует квадратные скобки, это напоминает списки в Python. Индексация здесь очень похожа на индексацию списков.\n",
        "Важное замечание: когда мы используем срезы в списках, то конец среза не включается в результат. А вот атрибут .loc[] тем и выделяется, что включает и начало, и конец среза.\n",
        "Например, есть список исполнителей:\n",
        "\n",
        "**artist = ['Marina Rei', 'Stive Morgan','Rixton','Henry Hall & His Gleneagles Hotel Band', 'Andrew Paul Woodworth', 'Pillar Point','Steve Campbell','David Civera','Lumipa Beats', 'Henning Wehland']**\n",
        "Элементы с 2 по 4 получают запросом:\n",
        "**print(artist[2:5])**\n",
        "['Rixton', 'Henry Hall & His Gleneagles Hotel Band', 'Andrew Paul Woodworth']\n",
        "Последним в запросе указан индекс 5 — именно для того, чтобы в срез попал элемент с индексом 4. Запрос на получение со 2 по 4 строки в таблице будет выглядеть вот так:\n",
        "\n",
        "**print(df.loc[2:4])**\n",
        "Самые ходовые запросы, которые вам предстоит делать как аналитику данных это запрашивать один столбец, одну строку, диапазон столбцов и диапазон строк.\n",
        "Для подсчета количества определенных значений в срезе данных в  Pandas для этого есть метод count().\n",
        "Например, на нужно подсчитать количество детей, младше трех лет на Титанике. Для столбца 'Age' таблицы  такие ячейки отвечают логическому условию df.loc[:,Age']<3.\n",
        "Поскольку в указании, какие именно значения считать, нужен логический оператор, такой доступ к значению ячейки называют логическая индексация.\n",
        "\n"
      ]
    },
    {
      "cell_type": "code",
      "execution_count": null,
      "metadata": {
        "id": "r3XzFwy66_6-",
        "colab": {
          "base_uri": "https://localhost:8080/"
        },
        "outputId": "af830c6f-ee2b-4d43-d7fd-13b600b82889"
      },
      "outputs": [
        {
          "output_type": "stream",
          "name": "stdout",
          "text": [
            "0      False\n",
            "1      False\n",
            "2      False\n",
            "3      False\n",
            "4      False\n",
            "       ...  \n",
            "886    False\n",
            "887    False\n",
            "888    False\n",
            "889    False\n",
            "890    False\n",
            "Name: Age, Length: 891, dtype: bool\n"
          ]
        }
      ],
      "source": [
        "df = pd.read_csv('https://raw.githubusercontent.com/allatambov/Py-programming-3/master/28-05/Titanic.csv')\n",
        "print(df.loc[:,'Age']<3)"
      ]
    },
    {
      "cell_type": "markdown",
      "metadata": {
        "id": "PZt3lP5k6_6-"
      },
      "source": [
        "ВИД\t                                                  РЕАЛИЗАЦИЯ\t                       СОКРАЩЁННАЯ ЗАПИСЬ\n",
        "Все строки, удовлетворяющие условию\t    battle.loc[battle.loc[:,'В'] == 'X']\t        battle[battle['В'] == 'X']\n",
        "Столбец, удовлетворяющий условию\t   battle.loc[battle.loc[:,'В'] == 'X']['В']\t    battle[battle['В'] == 'X']['В']\n",
        "Применение метода\t              battle.loc[battle.loc[:,'В'] == 'X']['В'].count()\t    battle[battle['В'] == 'X']['В'].count()\n"
      ]
    },
    {
      "cell_type": "markdown",
      "metadata": {
        "id": "HnzQldiD6_6-"
      },
      "source": [
        "## Задачи\n",
        "1. Получите таблицу, состоящую из столбцов Medu и Fedu. Сохраните её в переменной parents. Выведите на экран превые 20 строк.\n",
        "2. Посчитайте число матерей студентов с высшим образованием. Для этого лучше всего использовать логическое условие parents ['Medu'] == 4. Сохраните результат в переменной mother_hight. Напечатайте ответ на экране в таком виде:\n",
        "Число матерей с высшим образованием равно ...\n",
        "\n",
        "3. Теперь посчитайте число отцов студентов с высшим образованием. Допишите в код подсчёт, похожий на предыдущий, только с логическим условием parents ['Fedu'] == 4.. Сохраните результат в переменной father_hight. Напечатайте ответ на экране в таком виде:\n",
        "Число отцов с высшим образованием равно ...\n",
        "4. Напишите условную конструкцию, которая сравнивает полученные значения и выводит информацию о победителе в этом бою!))"
      ]
    },
    {
      "cell_type": "code",
      "source": [
        "df = pd.read_csv('/content/1 laboratory/student-mat.csv')\n",
        "parents = df.loc[:,['Medu', 'Fedu']]\n",
        "print(parents.head(20))"
      ],
      "metadata": {
        "colab": {
          "base_uri": "https://localhost:8080/"
        },
        "id": "AbYtaMGgRmhG",
        "outputId": "6aee8058-9c04-4b31-af33-2a6f6900f016"
      },
      "execution_count": null,
      "outputs": [
        {
          "output_type": "stream",
          "name": "stdout",
          "text": [
            "    Medu  Fedu\n",
            "0      4     4\n",
            "1      1     1\n",
            "2      1     1\n",
            "3      4     2\n",
            "4      3     3\n",
            "5      4     3\n",
            "6      2     2\n",
            "7      4     4\n",
            "8      3     2\n",
            "9      3     4\n",
            "10     4     4\n",
            "11     2     1\n",
            "12     4     4\n",
            "13     4     3\n",
            "14     2     2\n",
            "15     4     4\n",
            "16     4     4\n",
            "17     3     3\n",
            "18     3     2\n",
            "19     4     3\n"
          ]
        }
      ]
    },
    {
      "cell_type": "code",
      "source": [
        "mother_hight = parents['Medu']==4\n",
        "print(f'Число матерей с высшим образованием равно ', mother_hight.sum())"
      ],
      "metadata": {
        "colab": {
          "base_uri": "https://localhost:8080/"
        },
        "id": "CDAz5MaySRb9",
        "outputId": "68edb677-e5fa-4863-d9f8-7d4001db8a1c"
      },
      "execution_count": null,
      "outputs": [
        {
          "output_type": "stream",
          "name": "stdout",
          "text": [
            "Число матерей с высшим образованием равно  131\n"
          ]
        }
      ]
    },
    {
      "cell_type": "code",
      "source": [
        "father_hight = parents['Fedu']==4\n",
        "print(f'Число отцов с высшим образованием равно', father_hight.sum())"
      ],
      "metadata": {
        "colab": {
          "base_uri": "https://localhost:8080/"
        },
        "id": "mSuiFtK1Sk2u",
        "outputId": "72f125be-0b1b-4c4a-af8c-1488ac4043f7"
      },
      "execution_count": null,
      "outputs": [
        {
          "output_type": "stream",
          "name": "stdout",
          "text": [
            "Число отцов с высшим образованием равно 96\n"
          ]
        }
      ]
    },
    {
      "cell_type": "code",
      "source": [
        "mother_hight = mother_hight.sum()\n",
        "father_hight = father_hight.sum()\n",
        "if mother_hight > father_hight:\n",
        "  print('Выиграли матери')\n",
        "elif mother_hight < father_hight:\n",
        "  print('Выиграли отцы')\n",
        "else:\n",
        "  print('Ничья')"
      ],
      "metadata": {
        "colab": {
          "base_uri": "https://localhost:8080/"
        },
        "id": "B0nUmFAtSwqw",
        "outputId": "b0ec7c55-6eac-4e5b-a2ce-5e69b7760d26"
      },
      "execution_count": null,
      "outputs": [
        {
          "output_type": "stream",
          "name": "stdout",
          "text": [
            "Выиграли матери\n"
          ]
        }
      ]
    },
    {
      "cell_type": "markdown",
      "metadata": {
        "id": "cKn3JQo06_6_"
      },
      "source": [
        "## Объект Series"
      ]
    },
    {
      "cell_type": "markdown",
      "metadata": {
        "id": "Q8lvjYP56_6_"
      },
      "source": [
        "В таблице, которую мы рассматривали весь прошлый урок, каждый столбец сам по себе — вовсе не структура данных DataFrame."
      ]
    },
    {
      "cell_type": "code",
      "execution_count": null,
      "metadata": {
        "id": "giz3vlGl6_6_",
        "outputId": "ddf21d9e-a5b4-44e8-9c49-e5837e6f8489",
        "colab": {
          "base_uri": "https://localhost:8080/",
          "height": 203
        }
      },
      "outputs": [
        {
          "output_type": "execute_result",
          "data": {
            "text/plain": [
              "pandas.core.frame.DataFrame"
            ],
            "text/html": [
              "<div style=\"max-width:800px; border: 1px solid var(--colab-border-color);\"><style>\n",
              "      pre.function-repr-contents {\n",
              "        overflow-x: auto;\n",
              "        padding: 8px 12px;\n",
              "        max-height: 500px;\n",
              "      }\n",
              "\n",
              "      pre.function-repr-contents.function-repr-contents-collapsed {\n",
              "        cursor: pointer;\n",
              "        max-height: 100px;\n",
              "      }\n",
              "    </style>\n",
              "    <pre style=\"white-space: initial; background:\n",
              "         var(--colab-secondary-surface-color); padding: 8px 12px;\n",
              "         border-bottom: 1px solid var(--colab-border-color);\"><b>pandas.core.frame.DataFrame</b><br/>def __init__(data=None, index: Axes | None=None, columns: Axes | None=None, dtype: Dtype | None=None, copy: bool | None=None) -&gt; None</pre><pre class=\"function-repr-contents function-repr-contents-collapsed\" style=\"\"><a class=\"filepath\" style=\"display:none\" href=\"#\">/usr/local/lib/python3.10/dist-packages/pandas/core/frame.py</a>Two-dimensional, size-mutable, potentially heterogeneous tabular data.\n",
              "\n",
              "Data structure also contains labeled axes (rows and columns).\n",
              "Arithmetic operations align on both row and column labels. Can be\n",
              "thought of as a dict-like container for Series objects. The primary\n",
              "pandas data structure.\n",
              "\n",
              "Parameters\n",
              "----------\n",
              "data : ndarray (structured or homogeneous), Iterable, dict, or DataFrame\n",
              "    Dict can contain Series, arrays, constants, dataclass or list-like objects. If\n",
              "    data is a dict, column order follows insertion-order. If a dict contains Series\n",
              "    which have an index defined, it is aligned by its index. This alignment also\n",
              "    occurs if data is a Series or a DataFrame itself. Alignment is done on\n",
              "    Series/DataFrame inputs.\n",
              "\n",
              "    If data is a list of dicts, column order follows insertion-order.\n",
              "\n",
              "index : Index or array-like\n",
              "    Index to use for resulting frame. Will default to RangeIndex if\n",
              "    no indexing information part of input data and no index provided.\n",
              "columns : Index or array-like\n",
              "    Column labels to use for resulting frame when data does not have them,\n",
              "    defaulting to RangeIndex(0, 1, 2, ..., n). If data contains column labels,\n",
              "    will perform column selection instead.\n",
              "dtype : dtype, default None\n",
              "    Data type to force. Only a single dtype is allowed. If None, infer.\n",
              "copy : bool or None, default None\n",
              "    Copy data from inputs.\n",
              "    For dict data, the default of None behaves like ``copy=True``.  For DataFrame\n",
              "    or 2d ndarray input, the default of None behaves like ``copy=False``.\n",
              "    If data is a dict containing one or more Series (possibly of different dtypes),\n",
              "    ``copy=False`` will ensure that these inputs are not copied.\n",
              "\n",
              "    .. versionchanged:: 1.3.0\n",
              "\n",
              "See Also\n",
              "--------\n",
              "DataFrame.from_records : Constructor from tuples, also record arrays.\n",
              "DataFrame.from_dict : From dicts of Series, arrays, or dicts.\n",
              "read_csv : Read a comma-separated values (csv) file into DataFrame.\n",
              "read_table : Read general delimited file into DataFrame.\n",
              "read_clipboard : Read text from clipboard into DataFrame.\n",
              "\n",
              "Notes\n",
              "-----\n",
              "Please reference the :ref:`User Guide &lt;basics.dataframe&gt;` for more information.\n",
              "\n",
              "Examples\n",
              "--------\n",
              "Constructing DataFrame from a dictionary.\n",
              "\n",
              "&gt;&gt;&gt; d = {&#x27;col1&#x27;: [1, 2], &#x27;col2&#x27;: [3, 4]}\n",
              "&gt;&gt;&gt; df = pd.DataFrame(data=d)\n",
              "&gt;&gt;&gt; df\n",
              "   col1  col2\n",
              "0     1     3\n",
              "1     2     4\n",
              "\n",
              "Notice that the inferred dtype is int64.\n",
              "\n",
              "&gt;&gt;&gt; df.dtypes\n",
              "col1    int64\n",
              "col2    int64\n",
              "dtype: object\n",
              "\n",
              "To enforce a single dtype:\n",
              "\n",
              "&gt;&gt;&gt; df = pd.DataFrame(data=d, dtype=np.int8)\n",
              "&gt;&gt;&gt; df.dtypes\n",
              "col1    int8\n",
              "col2    int8\n",
              "dtype: object\n",
              "\n",
              "Constructing DataFrame from a dictionary including Series:\n",
              "\n",
              "&gt;&gt;&gt; d = {&#x27;col1&#x27;: [0, 1, 2, 3], &#x27;col2&#x27;: pd.Series([2, 3], index=[2, 3])}\n",
              "&gt;&gt;&gt; pd.DataFrame(data=d, index=[0, 1, 2, 3])\n",
              "   col1  col2\n",
              "0     0   NaN\n",
              "1     1   NaN\n",
              "2     2   2.0\n",
              "3     3   3.0\n",
              "\n",
              "Constructing DataFrame from numpy ndarray:\n",
              "\n",
              "&gt;&gt;&gt; df2 = pd.DataFrame(np.array([[1, 2, 3], [4, 5, 6], [7, 8, 9]]),\n",
              "...                    columns=[&#x27;a&#x27;, &#x27;b&#x27;, &#x27;c&#x27;])\n",
              "&gt;&gt;&gt; df2\n",
              "   a  b  c\n",
              "0  1  2  3\n",
              "1  4  5  6\n",
              "2  7  8  9\n",
              "\n",
              "Constructing DataFrame from a numpy ndarray that has labeled columns:\n",
              "\n",
              "&gt;&gt;&gt; data = np.array([(1, 2, 3), (4, 5, 6), (7, 8, 9)],\n",
              "...                 dtype=[(&quot;a&quot;, &quot;i4&quot;), (&quot;b&quot;, &quot;i4&quot;), (&quot;c&quot;, &quot;i4&quot;)])\n",
              "&gt;&gt;&gt; df3 = pd.DataFrame(data, columns=[&#x27;c&#x27;, &#x27;a&#x27;])\n",
              "...\n",
              "&gt;&gt;&gt; df3\n",
              "   c  a\n",
              "0  3  1\n",
              "1  6  4\n",
              "2  9  7\n",
              "\n",
              "Constructing DataFrame from dataclass:\n",
              "\n",
              "&gt;&gt;&gt; from dataclasses import make_dataclass\n",
              "&gt;&gt;&gt; Point = make_dataclass(&quot;Point&quot;, [(&quot;x&quot;, int), (&quot;y&quot;, int)])\n",
              "&gt;&gt;&gt; pd.DataFrame([Point(0, 0), Point(0, 3), Point(2, 3)])\n",
              "   x  y\n",
              "0  0  0\n",
              "1  0  3\n",
              "2  2  3\n",
              "\n",
              "Constructing DataFrame from Series/DataFrame:\n",
              "\n",
              "&gt;&gt;&gt; ser = pd.Series([1, 2, 3], index=[&quot;a&quot;, &quot;b&quot;, &quot;c&quot;])\n",
              "&gt;&gt;&gt; df = pd.DataFrame(data=ser, index=[&quot;a&quot;, &quot;c&quot;])\n",
              "&gt;&gt;&gt; df\n",
              "   0\n",
              "a  1\n",
              "c  3\n",
              "\n",
              "&gt;&gt;&gt; df1 = pd.DataFrame([1, 2, 3], index=[&quot;a&quot;, &quot;b&quot;, &quot;c&quot;], columns=[&quot;x&quot;])\n",
              "&gt;&gt;&gt; df2 = pd.DataFrame(data=df1, index=[&quot;a&quot;, &quot;c&quot;])\n",
              "&gt;&gt;&gt; df2\n",
              "   x\n",
              "a  1\n",
              "c  3</pre>\n",
              "      <script>\n",
              "      if (google.colab.kernel.accessAllowed && google.colab.files && google.colab.files.view) {\n",
              "        for (const element of document.querySelectorAll('.filepath')) {\n",
              "          element.style.display = 'block'\n",
              "          element.onclick = (event) => {\n",
              "            event.preventDefault();\n",
              "            event.stopPropagation();\n",
              "            google.colab.files.view(element.textContent, 509);\n",
              "          };\n",
              "        }\n",
              "      }\n",
              "      for (const element of document.querySelectorAll('.function-repr-contents')) {\n",
              "        element.onclick = (event) => {\n",
              "          event.preventDefault();\n",
              "          event.stopPropagation();\n",
              "          element.classList.toggle('function-repr-contents-collapsed');\n",
              "        };\n",
              "      }\n",
              "      </script>\n",
              "      </div>"
            ]
          },
          "metadata": {},
          "execution_count": 34
        }
      ],
      "source": [
        "type(df) #Таблица всё так же имеет тип DataFrame."
      ]
    },
    {
      "cell_type": "code",
      "execution_count": null,
      "metadata": {
        "id": "7PnoOaOF6_6_",
        "outputId": "f85e171f-716d-48eb-945b-32a86d34776a",
        "colab": {
          "base_uri": "https://localhost:8080/",
          "height": 203
        }
      },
      "outputs": [
        {
          "output_type": "execute_result",
          "data": {
            "text/plain": [
              "pandas.core.series.Series"
            ],
            "text/html": [
              "<div style=\"max-width:800px; border: 1px solid var(--colab-border-color);\"><style>\n",
              "      pre.function-repr-contents {\n",
              "        overflow-x: auto;\n",
              "        padding: 8px 12px;\n",
              "        max-height: 500px;\n",
              "      }\n",
              "\n",
              "      pre.function-repr-contents.function-repr-contents-collapsed {\n",
              "        cursor: pointer;\n",
              "        max-height: 100px;\n",
              "      }\n",
              "    </style>\n",
              "    <pre style=\"white-space: initial; background:\n",
              "         var(--colab-secondary-surface-color); padding: 8px 12px;\n",
              "         border-bottom: 1px solid var(--colab-border-color);\"><b>pandas.core.series.Series</b><br/>def __init__(data=None, index=None, dtype: Dtype | None=None, name=None, copy: bool | None=None, fastpath: bool | lib.NoDefault=lib.no_default) -&gt; None</pre><pre class=\"function-repr-contents function-repr-contents-collapsed\" style=\"\"><a class=\"filepath\" style=\"display:none\" href=\"#\">/usr/local/lib/python3.10/dist-packages/pandas/core/series.py</a>One-dimensional ndarray with axis labels (including time series).\n",
              "\n",
              "Labels need not be unique but must be a hashable type. The object\n",
              "supports both integer- and label-based indexing and provides a host of\n",
              "methods for performing operations involving the index. Statistical\n",
              "methods from ndarray have been overridden to automatically exclude\n",
              "missing data (currently represented as NaN).\n",
              "\n",
              "Operations between Series (+, -, /, \\*, \\*\\*) align values based on their\n",
              "associated index values-- they need not be the same length. The result\n",
              "index will be the sorted union of the two indexes.\n",
              "\n",
              "Parameters\n",
              "----------\n",
              "data : array-like, Iterable, dict, or scalar value\n",
              "    Contains data stored in Series. If data is a dict, argument order is\n",
              "    maintained.\n",
              "index : array-like or Index (1d)\n",
              "    Values must be hashable and have the same length as `data`.\n",
              "    Non-unique index values are allowed. Will default to\n",
              "    RangeIndex (0, 1, 2, ..., n) if not provided. If data is dict-like\n",
              "    and index is None, then the keys in the data are used as the index. If the\n",
              "    index is not None, the resulting Series is reindexed with the index values.\n",
              "dtype : str, numpy.dtype, or ExtensionDtype, optional\n",
              "    Data type for the output Series. If not specified, this will be\n",
              "    inferred from `data`.\n",
              "    See the :ref:`user guide &lt;basics.dtypes&gt;` for more usages.\n",
              "name : Hashable, default None\n",
              "    The name to give to the Series.\n",
              "copy : bool, default False\n",
              "    Copy input data. Only affects Series or 1d ndarray input. See examples.\n",
              "\n",
              "Notes\n",
              "-----\n",
              "Please reference the :ref:`User Guide &lt;basics.series&gt;` for more information.\n",
              "\n",
              "Examples\n",
              "--------\n",
              "Constructing Series from a dictionary with an Index specified\n",
              "\n",
              "&gt;&gt;&gt; d = {&#x27;a&#x27;: 1, &#x27;b&#x27;: 2, &#x27;c&#x27;: 3}\n",
              "&gt;&gt;&gt; ser = pd.Series(data=d, index=[&#x27;a&#x27;, &#x27;b&#x27;, &#x27;c&#x27;])\n",
              "&gt;&gt;&gt; ser\n",
              "a   1\n",
              "b   2\n",
              "c   3\n",
              "dtype: int64\n",
              "\n",
              "The keys of the dictionary match with the Index values, hence the Index\n",
              "values have no effect.\n",
              "\n",
              "&gt;&gt;&gt; d = {&#x27;a&#x27;: 1, &#x27;b&#x27;: 2, &#x27;c&#x27;: 3}\n",
              "&gt;&gt;&gt; ser = pd.Series(data=d, index=[&#x27;x&#x27;, &#x27;y&#x27;, &#x27;z&#x27;])\n",
              "&gt;&gt;&gt; ser\n",
              "x   NaN\n",
              "y   NaN\n",
              "z   NaN\n",
              "dtype: float64\n",
              "\n",
              "Note that the Index is first build with the keys from the dictionary.\n",
              "After this the Series is reindexed with the given Index values, hence we\n",
              "get all NaN as a result.\n",
              "\n",
              "Constructing Series from a list with `copy=False`.\n",
              "\n",
              "&gt;&gt;&gt; r = [1, 2]\n",
              "&gt;&gt;&gt; ser = pd.Series(r, copy=False)\n",
              "&gt;&gt;&gt; ser.iloc[0] = 999\n",
              "&gt;&gt;&gt; r\n",
              "[1, 2]\n",
              "&gt;&gt;&gt; ser\n",
              "0    999\n",
              "1      2\n",
              "dtype: int64\n",
              "\n",
              "Due to input data type the Series has a `copy` of\n",
              "the original data even though `copy=False`, so\n",
              "the data is unchanged.\n",
              "\n",
              "Constructing Series from a 1d ndarray with `copy=False`.\n",
              "\n",
              "&gt;&gt;&gt; r = np.array([1, 2])\n",
              "&gt;&gt;&gt; ser = pd.Series(r, copy=False)\n",
              "&gt;&gt;&gt; ser.iloc[0] = 999\n",
              "&gt;&gt;&gt; r\n",
              "array([999,   2])\n",
              "&gt;&gt;&gt; ser\n",
              "0    999\n",
              "1      2\n",
              "dtype: int64\n",
              "\n",
              "Due to input data type the Series has a `view` on\n",
              "the original data, so\n",
              "the data is changed as well.</pre>\n",
              "      <script>\n",
              "      if (google.colab.kernel.accessAllowed && google.colab.files && google.colab.files.view) {\n",
              "        for (const element of document.querySelectorAll('.filepath')) {\n",
              "          element.style.display = 'block'\n",
              "          element.onclick = (event) => {\n",
              "            event.preventDefault();\n",
              "            event.stopPropagation();\n",
              "            google.colab.files.view(element.textContent, 263);\n",
              "          };\n",
              "        }\n",
              "      }\n",
              "      for (const element of document.querySelectorAll('.function-repr-contents')) {\n",
              "        element.onclick = (event) => {\n",
              "          event.preventDefault();\n",
              "          event.stopPropagation();\n",
              "          element.classList.toggle('function-repr-contents-collapsed');\n",
              "        };\n",
              "      }\n",
              "      </script>\n",
              "      </div>"
            ]
          },
          "metadata": {},
          "execution_count": 35
        }
      ],
      "source": [
        "type(df['Age']) #Но если мы возьмём отдельный столбец таблицы, то он представляет собой совсем иную структуру данных — Series."
      ]
    },
    {
      "cell_type": "markdown",
      "metadata": {
        "id": "rdab4COr6_6_"
      },
      "source": [
        "Series — одномерная таблица, и её элементы можно получить по индексу. Каждый индекс — это номер отдельного наблюдения, и поэтому несколько различных Series вместе составляют DataFrame. В Series хранятся данные одного типа. У каждой Series есть имя (Name), информация о количестве данных в столбце (Length) и тип данных, которые хранятся в ней (dtype)."
      ]
    },
    {
      "cell_type": "code",
      "execution_count": null,
      "metadata": {
        "id": "1Hchor2n6_6_",
        "outputId": "52f5d4b6-3fe1-4432-bb2c-18ca745d237d",
        "colab": {
          "base_uri": "https://localhost:8080/"
        }
      },
      "outputs": [
        {
          "output_type": "stream",
          "name": "stdout",
          "text": [
            "0      22.0\n",
            "1      38.0\n",
            "2      26.0\n",
            "3      35.0\n",
            "4      35.0\n",
            "       ... \n",
            "886    27.0\n",
            "887    19.0\n",
            "888     NaN\n",
            "889    26.0\n",
            "890    32.0\n",
            "Name: Age, Length: 891, dtype: float64\n"
          ]
        }
      ],
      "source": [
        "print(df['Age'])"
      ]
    },
    {
      "cell_type": "markdown",
      "metadata": {
        "id": "Q3ojJhPF6_6_"
      },
      "source": [
        "Индексация в Series аналогична индексации элементов столбца в DataFrame. Давайте рассмотрим на примере. Сохраним столбец Age в переменной age."
      ]
    },
    {
      "cell_type": "code",
      "execution_count": null,
      "metadata": {
        "id": "lATHcq8-6_7A"
      },
      "outputs": [],
      "source": [
        "age=df.loc[:,'Age']"
      ]
    },
    {
      "cell_type": "code",
      "execution_count": null,
      "metadata": {
        "id": "T-kvGf1F6_7A",
        "outputId": "24b90164-cfd8-4dc8-f4d5-c73ccb0123d4",
        "colab": {
          "base_uri": "https://localhost:8080/"
        }
      },
      "outputs": [
        {
          "output_type": "stream",
          "name": "stdout",
          "text": [
            "54.0\n"
          ]
        }
      ],
      "source": [
        "#Для получения пятого по индексу элемента укажем 5 в квадратных скобках.\n",
        "print(age[6])\n"
      ]
    },
    {
      "cell_type": "code",
      "execution_count": null,
      "metadata": {
        "id": "sGlK4wSO6_7A",
        "outputId": "cd36788d-330c-49fb-94fc-ee454b1d9ac0",
        "colab": {
          "base_uri": "https://localhost:8080/"
        }
      },
      "outputs": [
        {
          "output_type": "stream",
          "name": "stdout",
          "text": [
            "10     4.0\n",
            "11    58.0\n",
            "12    20.0\n",
            "13    39.0\n",
            "14    14.0\n",
            "15    55.0\n",
            "16     2.0\n",
            "17     NaN\n",
            "18    31.0\n",
            "19     NaN\n",
            "20    35.0\n",
            "Name: Age, dtype: float64\n"
          ]
        }
      ],
      "source": [
        "#Если надо получить диапазон ячеек, запросите атрибут loc с границами среза в квадратных скобках.\n",
        "print(age.loc[10:20])"
      ]
    },
    {
      "cell_type": "markdown",
      "metadata": {
        "id": "cbJSbYKg6_7A"
      },
      "source": [
        "ВИД\t                              РЕАЛИЗАЦИЯ\t                                         СОКРАЩЁННАЯ ЗАПИСЬ\n",
        "Один элемент\t                    total_play.loc[7]\t                                      total_play[7]\n",
        "Несколько элементов\t                total_play.loc[[5, 7, 10]]\t                          total_play[[5, 7, 10]]\n",
        "Несколько элементов подряд (срез)\ttotal_play.loc[5:10] включая 10                       total_play[5:10] не включая 10\n",
        "Все элементы, начиная с заданного\ttotal_play.loc[1:]\t                                  total_play[1:]\n",
        "Все элементы до заданного\t        total_play.loc[:3] включая 3\t                      total_play[:3] не включая 3\n"
      ]
    },
    {
      "cell_type": "markdown",
      "metadata": {
        "id": "Iv9O5ms66_7A"
      },
      "source": [
        "Для Series также возможна логическая индексация. Рассмотрим такие примеры. Подсчитаем количествщ выживших мужчин и женщин на корабле."
      ]
    },
    {
      "cell_type": "markdown",
      "metadata": {
        "id": "92C7FO5k6_7A"
      },
      "source": [
        "1. Получим таблицу только с женщинами и сохраним ее в переменной women."
      ]
    },
    {
      "cell_type": "code",
      "execution_count": null,
      "metadata": {
        "id": "fiKTnxeY6_7A",
        "colab": {
          "base_uri": "https://localhost:8080/"
        },
        "outputId": "4da1693f-d73f-48d8-b559-36ede65a28fc"
      },
      "outputs": [
        {
          "output_type": "stream",
          "name": "stdout",
          "text": [
            "    PassengerId  Survived  Pclass  \\\n",
            "1             2         1       1   \n",
            "2             3         1       3   \n",
            "3             4         1       1   \n",
            "8             9         1       3   \n",
            "9            10         1       2   \n",
            "10           11         1       3   \n",
            "11           12         1       1   \n",
            "14           15         0       3   \n",
            "15           16         1       2   \n",
            "18           19         0       3   \n",
            "\n",
            "                                                 Name     Sex   Age  SibSp  \\\n",
            "1   Cumings, Mrs. John Bradley (Florence Briggs Th...  female  38.0      1   \n",
            "2                              Heikkinen, Miss. Laina  female  26.0      0   \n",
            "3        Futrelle, Mrs. Jacques Heath (Lily May Peel)  female  35.0      1   \n",
            "8   Johnson, Mrs. Oscar W (Elisabeth Vilhelmina Berg)  female  27.0      0   \n",
            "9                 Nasser, Mrs. Nicholas (Adele Achem)  female  14.0      1   \n",
            "10                    Sandstrom, Miss. Marguerite Rut  female   4.0      1   \n",
            "11                           Bonnell, Miss. Elizabeth  female  58.0      0   \n",
            "14               Vestrom, Miss. Hulda Amanda Adolfina  female  14.0      0   \n",
            "15                   Hewlett, Mrs. (Mary D Kingcome)   female  55.0      0   \n",
            "18  Vander Planke, Mrs. Julius (Emelia Maria Vande...  female  31.0      1   \n",
            "\n",
            "    Parch            Ticket     Fare Cabin Embarked  \n",
            "1       0          PC 17599  71.2833   C85        C  \n",
            "2       0  STON/O2. 3101282   7.9250   NaN        S  \n",
            "3       0            113803  53.1000  C123        S  \n",
            "8       2            347742  11.1333   NaN        S  \n",
            "9       0            237736  30.0708   NaN        C  \n",
            "10      1           PP 9549  16.7000    G6        S  \n",
            "11      0            113783  26.5500  C103        S  \n",
            "14      0            350406   7.8542   NaN        S  \n",
            "15      0            248706  16.0000   NaN        S  \n",
            "18      0            345763  18.0000   NaN        S  \n"
          ]
        }
      ],
      "source": [
        "women=df.loc[df['Sex']=='female']\n",
        "print(women.head(10))"
      ]
    },
    {
      "cell_type": "markdown",
      "metadata": {
        "id": "6UAAoR4w6_7A"
      },
      "source": [
        "Выделим информацию с выжившими женщинами в особую структуру данных. Сохраним столбец Survived таблицы women в переменной women_life"
      ]
    },
    {
      "cell_type": "code",
      "execution_count": null,
      "metadata": {
        "id": "2HJ0Hwh_6_7B",
        "colab": {
          "base_uri": "https://localhost:8080/"
        },
        "outputId": "6eeb2cfa-a230-4546-9f9b-370ac6eb805c"
      },
      "outputs": [
        {
          "output_type": "stream",
          "name": "stdout",
          "text": [
            "1      1\n",
            "2      1\n",
            "3      1\n",
            "8      1\n",
            "9      1\n",
            "      ..\n",
            "880    1\n",
            "882    0\n",
            "885    0\n",
            "887    1\n",
            "888    0\n",
            "Name: Survived, Length: 314, dtype: int64\n"
          ]
        }
      ],
      "source": [
        "women_life=women.loc[:,'Survived']\n",
        "print(women_life)"
      ]
    },
    {
      "cell_type": "markdown",
      "metadata": {
        "id": "uMCV-w606_7B"
      },
      "source": [
        "Обратимся к новой переменной women_life и подсчитаем количество выживших женщин"
      ]
    },
    {
      "cell_type": "code",
      "execution_count": null,
      "metadata": {
        "id": "m7klht2s6_7B",
        "colab": {
          "base_uri": "https://localhost:8080/",
          "height": 164
        },
        "outputId": "39c2dae2-6203-4578-a9c8-68821c01d15d"
      },
      "outputs": [
        {
          "output_type": "error",
          "ename": "NameError",
          "evalue": "name 'women_life' is not defined",
          "traceback": [
            "\u001b[0;31m---------------------------------------------------------------------------\u001b[0m",
            "\u001b[0;31mNameError\u001b[0m                                 Traceback (most recent call last)",
            "\u001b[0;32m<ipython-input-24-9286c4948589>\u001b[0m in \u001b[0;36m<cell line: 1>\u001b[0;34m()\u001b[0m\n\u001b[0;32m----> 1\u001b[0;31m \u001b[0mquantity_women\u001b[0m\u001b[0;34m=\u001b[0m\u001b[0mwomen_life\u001b[0m\u001b[0;34m.\u001b[0m\u001b[0mloc\u001b[0m\u001b[0;34m[\u001b[0m\u001b[0mwomen_life\u001b[0m\u001b[0;34m==\u001b[0m\u001b[0;36m1\u001b[0m\u001b[0;34m]\u001b[0m\u001b[0;34m.\u001b[0m\u001b[0mcount\u001b[0m\u001b[0;34m(\u001b[0m\u001b[0;34m)\u001b[0m\u001b[0;34m\u001b[0m\u001b[0;34m\u001b[0m\u001b[0m\n\u001b[0m\u001b[1;32m      2\u001b[0m \u001b[0mprint\u001b[0m\u001b[0;34m(\u001b[0m\u001b[0;34m'Количество выживших женщин равно'\u001b[0m\u001b[0;34m,\u001b[0m \u001b[0mquantity_women\u001b[0m\u001b[0;34m)\u001b[0m\u001b[0;34m\u001b[0m\u001b[0;34m\u001b[0m\u001b[0m\n",
            "\u001b[0;31mNameError\u001b[0m: name 'women_life' is not defined"
          ]
        }
      ],
      "source": [
        "quantity_women=women_life.loc[women_life==1].count()\n",
        "print('Количество выживших женщин равно', quantity_women)"
      ]
    },
    {
      "cell_type": "markdown",
      "metadata": {
        "id": "CuL13jQI6_7B"
      },
      "source": [
        "## Задачи\n",
        "1. Теперь по аналогии создайте Series, где хранятся данные только о выживаемости мужчин. Назовите его men_life и сохраните в нем данные столбца Survived.\n",
        "2. Обратитесь к созданной переменной для подсчета выживших мужчин. Сохраните результат в переменной quantity_men и напечатайте на экране в виде **Количество выживших женщин равно...**.\n",
        "3. Для обои полов посчитайте долю выживших в процентах. Разделите количество выживших на общее количество мужчин и женщин. Выведите значения новых переменных в процентах с точностью до одного знака после запятой."
      ]
    },
    {
      "cell_type": "code",
      "execution_count": null,
      "metadata": {
        "id": "AhJ-OeiT6_7E",
        "colab": {
          "base_uri": "https://localhost:8080/"
        },
        "outputId": "a5e57186-8fc2-46ae-a775-257b7a24b443"
      },
      "outputs": [
        {
          "output_type": "stream",
          "name": "stdout",
          "text": [
            "Количество выживших мужчин равно 109\n"
          ]
        }
      ],
      "source": [
        "men = df.loc[df['Sex']=='male']\n",
        "\n",
        "men_life=men.loc[:,'Survived']\n",
        "\n",
        "quantity_men=men_life.loc[men_life==1].count()\n",
        "print('Количество выживших мужчин равно', quantity_men)"
      ]
    },
    {
      "cell_type": "code",
      "source": [
        "# Количество всех мужчин и женщин\n",
        "total_quantity = women_life.shape[0] + men_life.shape[0]"
      ],
      "metadata": {
        "id": "OWJVv3YpNy_F"
      },
      "execution_count": null,
      "outputs": []
    },
    {
      "cell_type": "code",
      "source": [
        "survival_rate = round((quantity_men/total_quantity)*100, 1)\n",
        "print(f'Доля выживших мужчин: {survival_rate}%')"
      ],
      "metadata": {
        "colab": {
          "base_uri": "https://localhost:8080/"
        },
        "id": "DmHUAXkNO_aQ",
        "outputId": "cb9d6c53-ff8e-4434-e4ec-28834162bb90"
      },
      "execution_count": null,
      "outputs": [
        {
          "output_type": "stream",
          "name": "stdout",
          "text": [
            "Доля выживших мужчин: 12.2%\n"
          ]
        }
      ]
    },
    {
      "cell_type": "code",
      "source": [
        "survival_rate = round((quantity_women/total_quantity)*100, 1)\n",
        "print(f'Доля выживших женщин: {survival_rate}%')"
      ],
      "metadata": {
        "colab": {
          "base_uri": "https://localhost:8080/"
        },
        "id": "tjNh1lEmO_eP",
        "outputId": "4df8b4d9-8079-41ad-fa47-1649fe9ae23c"
      },
      "execution_count": null,
      "outputs": [
        {
          "output_type": "stream",
          "name": "stdout",
          "text": [
            "Доля выживших женщин: 26.2%\n"
          ]
        }
      ]
    },
    {
      "cell_type": "code",
      "source": [
        "# доля погибиших женщин от 20 до 40 лет включительно от всех погибших женщин ДОП ЗАДАНИЕ\n",
        "\n",
        "import pandas as pd\n",
        "df = pd.read_csv('https://raw.githubusercontent.com/allatambov/Py-programming-3/master/28-05/Titanic.csv')\n",
        "\n",
        "died_women = df.loc[(df['Sex'] == 'female') & (df['Survived'] == 0)].shape[0]\n",
        "died_women_age = df.loc[(df['Sex'] == 'female') & (df['Survived'] == 0) & (df['Age'] >= 20) & (df['Age'] <= 40)].shape[0]\n",
        "print(died_women_age/died_women)"
      ],
      "metadata": {
        "colab": {
          "base_uri": "https://localhost:8080/"
        },
        "id": "Lz0x-ychFuIT",
        "outputId": "1149335c-2878-409c-e931-bbebd2cb9a43"
      },
      "execution_count": null,
      "outputs": [
        {
          "output_type": "stream",
          "name": "stdout",
          "text": [
            "0.38271604938271603\n"
          ]
        }
      ]
    },
    {
      "cell_type": "code",
      "source": [
        "cd /content/laboratories"
      ],
      "metadata": {
        "colab": {
          "base_uri": "https://localhost:8080/"
        },
        "id": "g0idR3LMawxL",
        "outputId": "f60cf7aa-11fe-4126-a5d5-809536bec62e"
      },
      "execution_count": 26,
      "outputs": [
        {
          "output_type": "stream",
          "name": "stdout",
          "text": [
            "/content/laboratory\n"
          ]
        }
      ]
    },
    {
      "cell_type": "code",
      "source": [
        "%cd /content/laboratories"
      ],
      "metadata": {
        "colab": {
          "base_uri": "https://localhost:8080/"
        },
        "id": "NA1kE9ummQGa",
        "outputId": "e936e5ad-0d11-430f-b3a2-993a8d151f50"
      },
      "execution_count": 28,
      "outputs": [
        {
          "output_type": "stream",
          "name": "stdout",
          "text": [
            "/content/laboratory\n"
          ]
        }
      ]
    },
    {
      "cell_type": "code",
      "source": [
        "!git init"
      ],
      "metadata": {
        "colab": {
          "base_uri": "https://localhost:8080/"
        },
        "id": "hLEwR-9xmdHr",
        "outputId": "b2813703-1618-438a-87e5-19dfe22e074e"
      },
      "execution_count": 29,
      "outputs": [
        {
          "output_type": "stream",
          "name": "stdout",
          "text": [
            "Reinitialized existing Git repository in /content/laboratories/.git/\n"
          ]
        }
      ]
    },
    {
      "cell_type": "code",
      "source": [
        "!git add laboratory1.ipynb"
      ],
      "metadata": {
        "id": "eOysMDrbm0KW"
      },
      "execution_count": 30,
      "outputs": []
    },
    {
      "cell_type": "code",
      "source": [
        "!git commit -m \"Добавил файл laboratory1.ipynb\""
      ],
      "metadata": {
        "colab": {
          "base_uri": "https://localhost:8080/"
        },
        "id": "7wFdn5uam2q-",
        "outputId": "378fbde9-a034-49c6-ae04-f7c5108e247e"
      },
      "execution_count": 31,
      "outputs": [
        {
          "output_type": "stream",
          "name": "stdout",
          "text": [
            "Author identity unknown\n",
            "\n",
            "*** Please tell me who you are.\n",
            "\n",
            "Run\n",
            "\n",
            "  git config --global user.email \"you@example.com\"\n",
            "  git config --global user.name \"Your Name\"\n",
            "\n",
            "to set your account's default identity.\n",
            "Omit --global to set the identity only in this repository.\n",
            "\n",
            "fatal: unable to auto-detect email address (got 'root@c4a40078935c.(none)')\n"
          ]
        }
      ]
    },
    {
      "cell_type": "code",
      "source": [
        "!git add laboratory1.ipynb"
      ],
      "metadata": {
        "id": "TIHfbcXEm___"
      },
      "execution_count": 37,
      "outputs": []
    },
    {
      "cell_type": "code",
      "source": [
        "!git config --global user.email \"opexdon9@gmail.com\""
      ],
      "metadata": {
        "id": "EaVR_WWcnZzD"
      },
      "execution_count": 40,
      "outputs": []
    },
    {
      "cell_type": "code",
      "source": [
        "!git config --global user.name \"oleg9999999\""
      ],
      "metadata": {
        "id": "XOF5gCOSnosl"
      },
      "execution_count": 41,
      "outputs": []
    },
    {
      "cell_type": "code",
      "source": [
        "!git branch -M main"
      ],
      "metadata": {
        "id": "-Eufrlh9nsNN"
      },
      "execution_count": 44,
      "outputs": []
    },
    {
      "cell_type": "code",
      "source": [],
      "metadata": {
        "colab": {
          "base_uri": "https://localhost:8080/"
        },
        "id": "82LMIShBn4cm",
        "outputId": "af4c8d8d-5c26-4480-bfa0-bc2f49a50cd5"
      },
      "execution_count": 48,
      "outputs": [
        {
          "output_type": "stream",
          "name": "stdout",
          "text": [
            "error: remote origin already exists.\n"
          ]
        }
      ]
    }
  ],
  "metadata": {
    "kernelspec": {
      "display_name": "Python 3 (ipykernel)",
      "language": "python",
      "name": "python3"
    },
    "language_info": {
      "codemirror_mode": {
        "name": "ipython",
        "version": 3
      },
      "file_extension": ".py",
      "mimetype": "text/x-python",
      "name": "python",
      "nbconvert_exporter": "python",
      "pygments_lexer": "ipython3",
      "version": "3.10.0"
    },
    "colab": {
      "provenance": [],
      "include_colab_link": true
    }
  },
  "nbformat": 4,
  "nbformat_minor": 0
}